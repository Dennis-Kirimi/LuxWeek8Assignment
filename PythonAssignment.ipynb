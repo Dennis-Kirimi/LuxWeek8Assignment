{
 "cells": [
  {
   "cell_type": "markdown",
   "id": "3b0d4d81-4aa5-4d16-aaea-178f6b90e04d",
   "metadata": {},
   "source": [
    "## Name: Dennis Kirimi\n",
    "## Course: Data Analytics\n",
    "### Instructions: \n",
    "1. Complete all tasks diligently. \n",
    "2. Ensure your code is well-indented and commented for clarity. \n",
    "3. Save your work in a single Python script named yourname_python_assignment.py. and send a \n",
    "github link  \n",
    "4. Submit your assignment by Sunday 3PM "
   ]
  },
  {
   "cell_type": "markdown",
   "id": "d0af07c5-a459-4b0d-bfd8-d49810708ffe",
   "metadata": {},
   "source": [
    "## 1: Data Types and Variables \n",
    "### Write a Python program that stores and displays personal information. \n",
    "Define and store a person’s: \n",
    "- Name (string) \n",
    "- Age (integer) \n",
    "- Height in meters (float) \n",
    "- Student status (boolean) \n"
   ]
  },
  {
   "cell_type": "code",
   "execution_count": null,
   "id": "0688a822-6ca9-48e2-85ae-b174e09da84f",
   "metadata": {},
   "outputs": [],
   "source": [
    "# In python, We define using variables. A python variable is a reserved memory location used to store values\n",
    "\n",
    "Name=\"Shadrack Omwami\" # We define a string using quotation marks ('',\"\")\n",
    "Age=26\n",
    "Height=157.59\n",
    "Student_status=True"
   ]
  },
  {
   "cell_type": "code",
   "execution_count": null,
   "id": "003cef42-2a94-46c1-afca-decd02503883",
   "metadata": {},
   "outputs": [],
   "source": [
    "# Use f-strings to format and print the above values in a structured manner. \n",
    "print(f\"My name is {Name}, I'm {Age} yrs old and my height currently stands at {Height}. It's {Student_status} I'm a student at LuxDevHQ.\")"
   ]
  },
  {
   "cell_type": "markdown",
   "id": "4170072d-7bf9-447d-9ad4-c39a94f287c8",
   "metadata": {},
   "source": [
    "## 2: Conditionals (if-elif-else) \n",
    "### Write a program that implements a cinema’s ticket pricing system based on age groups. \n",
    "The program should accept a user’s age as input and print the appropriate ticket price \n",
    "using conditional statements. \n",
    "The pricing should follow this structure:  \n",
    "- Free entry for children under five years.\n",
    "- 10 for those between 5 and 17 years.\n",
    "- 15 for adults between 18 and 60 years. \n",
    "- 12 for seniors above 60 years."
   ]
  },
  {
   "cell_type": "code",
   "execution_count": 7,
   "id": "3b42b4f1-42d6-4f53-974d-85bd56dace26",
   "metadata": {},
   "outputs": [
    {
     "name": "stdin",
     "output_type": "stream",
     "text": [
      "Enter your age:  61\n"
     ]
    },
    {
     "name": "stdout",
     "output_type": "stream",
     "text": [
      "Your ticket price is 12.\n"
     ]
    }
   ],
   "source": [
    "# We start by asking for the users age\n",
    "age=int(input(\"Enter your age: \"))\n",
    "if age<5:\n",
    "    price=0\n",
    "    print(f\"Your ticket fee is {price} / free.\")\n",
    "elif 5>=age<=17: # Realy struggled with getting the correct syntax for age 'between'. Tried using between but guess what...\n",
    "    price=10\n",
    "    print(f\"Your ticket price is {price}.\")\n",
    "elif 18>=age<=60:\n",
    "    price=15\n",
    "    print(f\"Your ticket price is {price}.\")\n",
    "elif age>60:\n",
    "    price=12\n",
    "    print(f\"Your ticket price is {price}.\")"
   ]
  },
  {
   "cell_type": "markdown",
   "id": "1033552f-7676-4b8f-b14f-229a1f915534",
   "metadata": {},
   "source": [
    "## 3: Loops (for, while) \n",
    "- Write a Python program that generates a multiplication table for a user-provided number, \n",
    "displaying results up to 10 times the input number.   "
   ]
  },
  {
   "cell_type": "code",
   "execution_count": 7,
   "id": "2c07e466-1461-4f74-bf89-387e49945cfc",
   "metadata": {},
   "outputs": [
    {
     "name": "stdin",
     "output_type": "stream",
     "text": [
      "Enter a number:  45\n"
     ]
    },
    {
     "name": "stdout",
     "output_type": "stream",
     "text": [
      "45x 1 = 45\n",
      "45x 2 = 90\n",
      "45x 3 = 135\n",
      "45x 4 = 180\n",
      "45x 5 = 225\n",
      "45x 6 = 270\n",
      "45x 7 = 315\n",
      "45x 8 = 360\n",
      "45x 9 = 405\n",
      "45x 10 = 450\n"
     ]
    }
   ],
   "source": [
    "# We start by asking for the number\n",
    "num=int(input(\"Enter a number: \"))\n",
    "\n",
    "for i in range (1,11):\n",
    "    print(f\"{num}x {i} = {num*i}\")"
   ]
  },
  {
   "cell_type": "markdown",
   "id": "4ad7b5ad-aeab-4658-9fe3-141d9ef40d42",
   "metadata": {},
   "source": [
    "- Modify the program to allow the user to specify the upper limit of the table."
   ]
  },
  {
   "cell_type": "code",
   "execution_count": 9,
   "id": "6cdbeda3-8516-4906-b9d3-4eb6325bd36b",
   "metadata": {},
   "outputs": [],
   "source": [
    "## I couldn't manage to tackle it"
   ]
  },
  {
   "cell_type": "markdown",
   "id": "bd4efc01-cb37-4d22-afa4-e4beab55e46d",
   "metadata": {},
   "source": [
    "Write a program that calculates the sum of even numbers from 1 to 100 using a loop."
   ]
  },
  {
   "cell_type": "code",
   "execution_count": 8,
   "id": "2712bfad-d495-4f8e-8156-9f6c323f5f10",
   "metadata": {},
   "outputs": [
    {
     "name": "stdout",
     "output_type": "stream",
     "text": [
      "The sum of even numbers is 2550\n"
     ]
    }
   ],
   "source": [
    "count=0\n",
    "for num in range(2,101,2):\n",
    "    count+=num\n",
    "\n",
    "print(f\"The sum of even numbers is {count}\")"
   ]
  },
  {
   "cell_type": "markdown",
   "id": "c540101a-1433-4b85-ad45-1d6f1ccd8472",
   "metadata": {},
   "source": [
    " Develop a password validation system that continuously prompts the user for a password \n",
    "until they enter one that meets the following criteria:  \n",
    "- At least 8 characters long \n",
    "- Containing at least one digit \n",
    "- Containing at least one uppercase letter "
   ]
  },
  {
   "cell_type": "code",
   "execution_count": 1,
   "id": "2da361ab-e31e-473e-a180-6c211001e2aa",
   "metadata": {},
   "outputs": [
    {
     "name": "stdin",
     "output_type": "stream",
     "text": [
      "Enter a password:  123456\n"
     ]
    },
    {
     "name": "stdout",
     "output_type": "stream",
     "text": [
      "Password must be at least 8 characters long.\n",
      "Please try again.\n",
      "\n"
     ]
    },
    {
     "name": "stdin",
     "output_type": "stream",
     "text": [
      "Enter a password:  123456\n"
     ]
    },
    {
     "name": "stdout",
     "output_type": "stream",
     "text": [
      "Password must be at least 8 characters long.\n",
      "Please try again.\n",
      "\n"
     ]
    },
    {
     "name": "stdin",
     "output_type": "stream",
     "text": [
      "Enter a password:  Muriungi@03\n"
     ]
    },
    {
     "name": "stdout",
     "output_type": "stream",
     "text": [
      "Password is valid!\n"
     ]
    }
   ],
   "source": [
    "def is_valid_password(password):\n",
    "    if len(password) < 8: # Check password length\n",
    "        print(\"Password must be at least 8 characters long.\")\n",
    "        return False\n",
    "    # Check if it contains at least one digit\n",
    "    if not any(char.isdigit() for char in password):\n",
    "        print(\"Password must contain at least one digit.\")\n",
    "        return False\n",
    "    # Check if it contains at least one uppercase letter\n",
    "    if not any(char.isupper() for char in password):\n",
    "        print(\"Password must contain at least one uppercase letter.\")\n",
    "        return False\n",
    "    \n",
    "    return True\n",
    "\n",
    "def main():\n",
    "    while True:\n",
    "        password = input(\"Enter a password: \")\n",
    "        if is_valid_password(password):\n",
    "            print(\"Password is valid!\")\n",
    "            break\n",
    "        else:\n",
    "            print(\"Please try again.\\n\")\n",
    "\n",
    "if __name__ == \"__main__\":\n",
    "    main()"
   ]
  },
  {
   "cell_type": "markdown",
   "id": "bdac4192-a01a-437c-a65f-a82e26221b4d",
   "metadata": {},
   "source": [
    "### 4. Data Structures\n",
    "\n",
    "#### 1. Create a dictionary that stores student names as keys and their grades as values. \n",
    "Allow users to:  \n",
    "- a. Add a new student and grade. \n",
    "- b. Update an existing grade. \n",
    "- c. Display all stored student records. "
   ]
  },
  {
   "cell_type": "code",
   "execution_count": 11,
   "id": "d7163a42-7cca-4391-a244-f071d946e82d",
   "metadata": {},
   "outputs": [
    {
     "name": "stdout",
     "output_type": "stream",
     "text": [
      "\n",
      "Student Grades Management System\n",
      "1. Add a new student and grade\n",
      "2. Update an existing grade\n",
      "3. Display all student records\n",
      "4. Exit\n"
     ]
    },
    {
     "ename": "KeyboardInterrupt",
     "evalue": "Interrupted by user",
     "output_type": "error",
     "traceback": [
      "\u001b[31m---------------------------------------------------------------------------\u001b[39m",
      "\u001b[31mKeyboardInterrupt\u001b[39m                         Traceback (most recent call last)",
      "\u001b[36mCell\u001b[39m\u001b[36m \u001b[39m\u001b[32mIn[11]\u001b[39m\u001b[32m, line 44\u001b[39m\n\u001b[32m     41\u001b[39m             \u001b[38;5;28mprint\u001b[39m(\u001b[33m\"\u001b[39m\u001b[33mInvalid choice. Please try again.\u001b[39m\u001b[33m\"\u001b[39m)\n\u001b[32m     43\u001b[39m \u001b[38;5;28;01mif\u001b[39;00m \u001b[34m__name__\u001b[39m == \u001b[33m\"\u001b[39m\u001b[33m__main__\u001b[39m\u001b[33m\"\u001b[39m:\n\u001b[32m---> \u001b[39m\u001b[32m44\u001b[39m     \u001b[43mmain\u001b[49m\u001b[43m(\u001b[49m\u001b[43m)\u001b[49m\n",
      "\u001b[36mCell\u001b[39m\u001b[36m \u001b[39m\u001b[32mIn[11]\u001b[39m\u001b[32m, line 11\u001b[39m, in \u001b[36mmain\u001b[39m\u001b[34m()\u001b[39m\n\u001b[32m      8\u001b[39m \u001b[38;5;28mprint\u001b[39m(\u001b[33m\"\u001b[39m\u001b[33m3. Display all student records\u001b[39m\u001b[33m\"\u001b[39m)\n\u001b[32m      9\u001b[39m \u001b[38;5;28mprint\u001b[39m(\u001b[33m\"\u001b[39m\u001b[33m4. Exit\u001b[39m\u001b[33m\"\u001b[39m)\n\u001b[32m---> \u001b[39m\u001b[32m11\u001b[39m choice = \u001b[38;5;28;43minput\u001b[39;49m\u001b[43m(\u001b[49m\u001b[33;43m\"\u001b[39;49m\u001b[33;43mEnter your choice: \u001b[39;49m\u001b[33;43m\"\u001b[39;49m\u001b[43m)\u001b[49m\n\u001b[32m     13\u001b[39m \u001b[38;5;28;01mif\u001b[39;00m choice == \u001b[33m\"\u001b[39m\u001b[33m1\u001b[39m\u001b[33m\"\u001b[39m:\n\u001b[32m     14\u001b[39m     name = \u001b[38;5;28minput\u001b[39m(\u001b[33m\"\u001b[39m\u001b[33mEnter student name: \u001b[39m\u001b[33m\"\u001b[39m)\n",
      "\u001b[36mFile \u001b[39m\u001b[32m~\\AppData\\Roaming\\Python\\Python313\\site-packages\\ipykernel\\kernelbase.py:1282\u001b[39m, in \u001b[36mKernel.raw_input\u001b[39m\u001b[34m(self, prompt)\u001b[39m\n\u001b[32m   1280\u001b[39m     msg = \u001b[33m\"\u001b[39m\u001b[33mraw_input was called, but this frontend does not support input requests.\u001b[39m\u001b[33m\"\u001b[39m\n\u001b[32m   1281\u001b[39m     \u001b[38;5;28;01mraise\u001b[39;00m StdinNotImplementedError(msg)\n\u001b[32m-> \u001b[39m\u001b[32m1282\u001b[39m \u001b[38;5;28;01mreturn\u001b[39;00m \u001b[38;5;28;43mself\u001b[39;49m\u001b[43m.\u001b[49m\u001b[43m_input_request\u001b[49m\u001b[43m(\u001b[49m\n\u001b[32m   1283\u001b[39m \u001b[43m    \u001b[49m\u001b[38;5;28;43mstr\u001b[39;49m\u001b[43m(\u001b[49m\u001b[43mprompt\u001b[49m\u001b[43m)\u001b[49m\u001b[43m,\u001b[49m\n\u001b[32m   1284\u001b[39m \u001b[43m    \u001b[49m\u001b[38;5;28;43mself\u001b[39;49m\u001b[43m.\u001b[49m\u001b[43m_parent_ident\u001b[49m\u001b[43m[\u001b[49m\u001b[33;43m\"\u001b[39;49m\u001b[33;43mshell\u001b[39;49m\u001b[33;43m\"\u001b[39;49m\u001b[43m]\u001b[49m\u001b[43m,\u001b[49m\n\u001b[32m   1285\u001b[39m \u001b[43m    \u001b[49m\u001b[38;5;28;43mself\u001b[39;49m\u001b[43m.\u001b[49m\u001b[43mget_parent\u001b[49m\u001b[43m(\u001b[49m\u001b[33;43m\"\u001b[39;49m\u001b[33;43mshell\u001b[39;49m\u001b[33;43m\"\u001b[39;49m\u001b[43m)\u001b[49m\u001b[43m,\u001b[49m\n\u001b[32m   1286\u001b[39m \u001b[43m    \u001b[49m\u001b[43mpassword\u001b[49m\u001b[43m=\u001b[49m\u001b[38;5;28;43;01mFalse\u001b[39;49;00m\u001b[43m,\u001b[49m\n\u001b[32m   1287\u001b[39m \u001b[43m\u001b[49m\u001b[43m)\u001b[49m\n",
      "\u001b[36mFile \u001b[39m\u001b[32m~\\AppData\\Roaming\\Python\\Python313\\site-packages\\ipykernel\\kernelbase.py:1325\u001b[39m, in \u001b[36mKernel._input_request\u001b[39m\u001b[34m(self, prompt, ident, parent, password)\u001b[39m\n\u001b[32m   1322\u001b[39m \u001b[38;5;28;01mexcept\u001b[39;00m \u001b[38;5;167;01mKeyboardInterrupt\u001b[39;00m:\n\u001b[32m   1323\u001b[39m     \u001b[38;5;66;03m# re-raise KeyboardInterrupt, to truncate traceback\u001b[39;00m\n\u001b[32m   1324\u001b[39m     msg = \u001b[33m\"\u001b[39m\u001b[33mInterrupted by user\u001b[39m\u001b[33m\"\u001b[39m\n\u001b[32m-> \u001b[39m\u001b[32m1325\u001b[39m     \u001b[38;5;28;01mraise\u001b[39;00m \u001b[38;5;167;01mKeyboardInterrupt\u001b[39;00m(msg) \u001b[38;5;28;01mfrom\u001b[39;00m\u001b[38;5;250m \u001b[39m\u001b[38;5;28;01mNone\u001b[39;00m\n\u001b[32m   1326\u001b[39m \u001b[38;5;28;01mexcept\u001b[39;00m \u001b[38;5;167;01mException\u001b[39;00m:\n\u001b[32m   1327\u001b[39m     \u001b[38;5;28mself\u001b[39m.log.warning(\u001b[33m\"\u001b[39m\u001b[33mInvalid Message:\u001b[39m\u001b[33m\"\u001b[39m, exc_info=\u001b[38;5;28;01mTrue\u001b[39;00m)\n",
      "\u001b[31mKeyboardInterrupt\u001b[39m: Interrupted by user"
     ]
    }
   ],
   "source": [
    "def main():\n",
    "    student_grades = {}\n",
    "    \n",
    "    while True:\n",
    "        print(\"\\nStudent Grades Management System\")\n",
    "        print(\"1. Add a new student and grade\")\n",
    "        print(\"2. Update an existing grade\")\n",
    "        print(\"3. Display all student records\")\n",
    "        print(\"4. Exit\")\n",
    "        \n",
    "        choice = input(\"Enter your choice: \")\n",
    "        \n",
    "        if choice == \"1\":\n",
    "            name = input(\"Enter student name: \")\n",
    "            grade = input(\"Enter student grade: \")\n",
    "            student_grades[name] = grade\n",
    "            print(f\"Record added for {name}.\")\n",
    "        \n",
    "        elif choice == \"2\":\n",
    "            name = input(\"Enter student name to update: \")\n",
    "            if name in student_grades:\n",
    "                grade = input(\"Enter new grade: \")\n",
    "                student_grades[name] = grade\n",
    "                print(f\"Grade updated for {name}.\")\n",
    "            else:\n",
    "                print(\"Student not found.\")\n",
    "        \n",
    "        elif choice == \"3\":\n",
    "            if student_grades:\n",
    "                print(\"\\nStudent Records:\")\n",
    "                for name, grade in student_grades.items():\n",
    "                    print(f\"{name}: {grade}\")\n",
    "            else:\n",
    "                print(\"No student records found.\")\n",
    "        \n",
    "        elif choice == \"4\":\n",
    "            print(\"Exiting program. Goodbye!\")\n",
    "            break\n",
    "        \n",
    "        else:\n",
    "            print(\"Invalid choice. Please try again.\")\n",
    "\n",
    "if __name__ == \"__main__\":\n",
    "    main()"
   ]
  },
  {
   "cell_type": "markdown",
   "id": "c4424e17-8ce7-4517-8a2f-d7ed45131148",
   "metadata": {},
   "source": [
    "### 2. Implement a program that collects five unique numbers from the user using a set. \n",
    "If a duplicate number is entered, the program should prompt the user to try again. "
   ]
  },
  {
   "cell_type": "code",
   "execution_count": null,
   "id": "cd990a23-7793-4f92-a510-4c30e6801447",
   "metadata": {},
   "outputs": [],
   "source": [
    "def main():\n",
    "    unique_numbers = set()\n",
    "    \n",
    "    while len(unique_numbers) < 5:\n",
    "        try:\n",
    "            num = int(input(\"Enter a unique number: \"))\n",
    "            if num in unique_numbers:\n",
    "                print(\"Number already entered, try again.\")\n",
    "            else:\n",
    "                unique_numbers.add(num)\n",
    "        except ValueError:\n",
    "            print(\"Invalid input. Please enter a number.\")\n",
    "    \n",
    "    print(\"\\nYou have entered 5 unique numbers:\", unique_numbers)\n",
    "\n",
    "if __name__ == \"__main__\":\n",
    "    main()\n"
   ]
  },
  {
   "cell_type": "code",
   "execution_count": 10,
   "id": "25f5179c-a38c-46c7-8a85-9f58652e9917",
   "metadata": {},
   "outputs": [],
   "source": [
    "## For number 4, I tackled with the help of ChatGPT. I'll reach out on Monday for assistance!"
   ]
  },
  {
   "cell_type": "code",
   "execution_count": null,
   "id": "bb2971ae-1d03-476c-a9bc-a3309df2952c",
   "metadata": {},
   "outputs": [],
   "source": []
  }
 ],
 "metadata": {
  "kernelspec": {
   "display_name": "Python 3 (ipykernel)",
   "language": "python",
   "name": "python3"
  },
  "language_info": {
   "codemirror_mode": {
    "name": "ipython",
    "version": 3
   },
   "file_extension": ".py",
   "mimetype": "text/x-python",
   "name": "python",
   "nbconvert_exporter": "python",
   "pygments_lexer": "ipython3",
   "version": "3.13.2"
  }
 },
 "nbformat": 4,
 "nbformat_minor": 5
}
